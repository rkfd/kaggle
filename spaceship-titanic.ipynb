{
 "cells": [
  {
   "cell_type": "code",
   "execution_count": 1,
   "id": "5445cdf2",
   "metadata": {
    "_cell_guid": "b1076dfc-b9ad-4769-8c92-a6c4dae69d19",
    "_uuid": "8f2839f25d086af736a60e9eeb907d3b93b6e0e5",
    "execution": {
     "iopub.execute_input": "2022-05-13T14:22:01.953217Z",
     "iopub.status.busy": "2022-05-13T14:22:01.952714Z",
     "iopub.status.idle": "2022-05-13T14:22:01.968391Z",
     "shell.execute_reply": "2022-05-13T14:22:01.967353Z"
    },
    "papermill": {
     "duration": 0.03273,
     "end_time": "2022-05-13T14:22:01.971103",
     "exception": false,
     "start_time": "2022-05-13T14:22:01.938373",
     "status": "completed"
    },
    "tags": []
   },
   "outputs": [
    {
     "name": "stdout",
     "output_type": "stream",
     "text": [
      "/kaggle/input/spaceship-titanic/sample_submission.csv\n",
      "/kaggle/input/spaceship-titanic/train.csv\n",
      "/kaggle/input/spaceship-titanic/test.csv\n"
     ]
    }
   ],
   "source": [
    "# This Python 3 environment comes with many helpful analytics libraries installed\n",
    "# It is defined by the kaggle/python Docker image: https://github.com/kaggle/docker-python\n",
    "# For example, here's several helpful packages to load\n",
    "\n",
    "import numpy as np # linear algebra\n",
    "import pandas as pd # data processing, CSV file I/O (e.g. pd.read_csv)\n",
    "\n",
    "# Input data files are available in the read-only \"../input/\" directory\n",
    "# For example, running this (by clicking run or pressing Shift+Enter) will list all files under the input directory\n",
    "\n",
    "import os\n",
    "for dirname, _, filenames in os.walk('/kaggle/input'):\n",
    "    for filename in filenames:\n",
    "        print(os.path.join(dirname, filename))\n",
    "\n",
    "# You can write up to 20GB to the current directory (/kaggle/working/) that gets preserved as output when you create a version using \"Save & Run All\" \n",
    "# You can also write temporary files to /kaggle/temp/, but they won't be saved outside of the current session"
   ]
  },
  {
   "cell_type": "code",
   "execution_count": 2,
   "id": "400215ae",
   "metadata": {
    "execution": {
     "iopub.execute_input": "2022-05-13T14:22:01.995607Z",
     "iopub.status.busy": "2022-05-13T14:22:01.995111Z",
     "iopub.status.idle": "2022-05-13T14:22:01.998981Z",
     "shell.execute_reply": "2022-05-13T14:22:01.998265Z"
    },
    "papermill": {
     "duration": 0.017656,
     "end_time": "2022-05-13T14:22:02.000824",
     "exception": false,
     "start_time": "2022-05-13T14:22:01.983168",
     "status": "completed"
    },
    "tags": []
   },
   "outputs": [],
   "source": [
    "# imports\n",
    "\n",
    "import matplotlib.pyplot as plt"
   ]
  },
  {
   "cell_type": "code",
   "execution_count": 3,
   "id": "d83f1858",
   "metadata": {
    "execution": {
     "iopub.execute_input": "2022-05-13T14:22:02.023987Z",
     "iopub.status.busy": "2022-05-13T14:22:02.023404Z",
     "iopub.status.idle": "2022-05-13T14:22:02.122994Z",
     "shell.execute_reply": "2022-05-13T14:22:02.122247Z"
    },
    "papermill": {
     "duration": 0.113862,
     "end_time": "2022-05-13T14:22:02.125333",
     "exception": false,
     "start_time": "2022-05-13T14:22:02.011471",
     "status": "completed"
    },
    "tags": []
   },
   "outputs": [],
   "source": [
    "df_train = pd.read_csv(\"/kaggle/input/spaceship-titanic/train.csv\")\n",
    "df_test = pd.read_csv(\"/kaggle/input/spaceship-titanic/test.csv\")"
   ]
  },
  {
   "cell_type": "code",
   "execution_count": 4,
   "id": "fd9980d1",
   "metadata": {
    "execution": {
     "iopub.execute_input": "2022-05-13T14:22:02.148887Z",
     "iopub.status.busy": "2022-05-13T14:22:02.148316Z",
     "iopub.status.idle": "2022-05-13T14:22:02.179750Z",
     "shell.execute_reply": "2022-05-13T14:22:02.179142Z"
    },
    "papermill": {
     "duration": 0.047597,
     "end_time": "2022-05-13T14:22:02.184063",
     "exception": false,
     "start_time": "2022-05-13T14:22:02.136466",
     "status": "completed"
    },
    "tags": []
   },
   "outputs": [
    {
     "data": {
      "text/html": [
       "<div>\n",
       "<style scoped>\n",
       "    .dataframe tbody tr th:only-of-type {\n",
       "        vertical-align: middle;\n",
       "    }\n",
       "\n",
       "    .dataframe tbody tr th {\n",
       "        vertical-align: top;\n",
       "    }\n",
       "\n",
       "    .dataframe thead th {\n",
       "        text-align: right;\n",
       "    }\n",
       "</style>\n",
       "<table border=\"1\" class=\"dataframe\">\n",
       "  <thead>\n",
       "    <tr style=\"text-align: right;\">\n",
       "      <th></th>\n",
       "      <th>PassengerId</th>\n",
       "      <th>HomePlanet</th>\n",
       "      <th>CryoSleep</th>\n",
       "      <th>Cabin</th>\n",
       "      <th>Destination</th>\n",
       "      <th>Age</th>\n",
       "      <th>VIP</th>\n",
       "      <th>RoomService</th>\n",
       "      <th>FoodCourt</th>\n",
       "      <th>ShoppingMall</th>\n",
       "      <th>Spa</th>\n",
       "      <th>VRDeck</th>\n",
       "      <th>Name</th>\n",
       "      <th>Transported</th>\n",
       "    </tr>\n",
       "  </thead>\n",
       "  <tbody>\n",
       "    <tr>\n",
       "      <th>0</th>\n",
       "      <td>0001_01</td>\n",
       "      <td>Europa</td>\n",
       "      <td>False</td>\n",
       "      <td>B/0/P</td>\n",
       "      <td>TRAPPIST-1e</td>\n",
       "      <td>39.0</td>\n",
       "      <td>False</td>\n",
       "      <td>0.0</td>\n",
       "      <td>0.0</td>\n",
       "      <td>0.0</td>\n",
       "      <td>0.0</td>\n",
       "      <td>0.0</td>\n",
       "      <td>Maham Ofracculy</td>\n",
       "      <td>False</td>\n",
       "    </tr>\n",
       "    <tr>\n",
       "      <th>1</th>\n",
       "      <td>0002_01</td>\n",
       "      <td>Earth</td>\n",
       "      <td>False</td>\n",
       "      <td>F/0/S</td>\n",
       "      <td>TRAPPIST-1e</td>\n",
       "      <td>24.0</td>\n",
       "      <td>False</td>\n",
       "      <td>109.0</td>\n",
       "      <td>9.0</td>\n",
       "      <td>25.0</td>\n",
       "      <td>549.0</td>\n",
       "      <td>44.0</td>\n",
       "      <td>Juanna Vines</td>\n",
       "      <td>True</td>\n",
       "    </tr>\n",
       "    <tr>\n",
       "      <th>2</th>\n",
       "      <td>0003_01</td>\n",
       "      <td>Europa</td>\n",
       "      <td>False</td>\n",
       "      <td>A/0/S</td>\n",
       "      <td>TRAPPIST-1e</td>\n",
       "      <td>58.0</td>\n",
       "      <td>True</td>\n",
       "      <td>43.0</td>\n",
       "      <td>3576.0</td>\n",
       "      <td>0.0</td>\n",
       "      <td>6715.0</td>\n",
       "      <td>49.0</td>\n",
       "      <td>Altark Susent</td>\n",
       "      <td>False</td>\n",
       "    </tr>\n",
       "    <tr>\n",
       "      <th>3</th>\n",
       "      <td>0003_02</td>\n",
       "      <td>Europa</td>\n",
       "      <td>False</td>\n",
       "      <td>A/0/S</td>\n",
       "      <td>TRAPPIST-1e</td>\n",
       "      <td>33.0</td>\n",
       "      <td>False</td>\n",
       "      <td>0.0</td>\n",
       "      <td>1283.0</td>\n",
       "      <td>371.0</td>\n",
       "      <td>3329.0</td>\n",
       "      <td>193.0</td>\n",
       "      <td>Solam Susent</td>\n",
       "      <td>False</td>\n",
       "    </tr>\n",
       "    <tr>\n",
       "      <th>4</th>\n",
       "      <td>0004_01</td>\n",
       "      <td>Earth</td>\n",
       "      <td>False</td>\n",
       "      <td>F/1/S</td>\n",
       "      <td>TRAPPIST-1e</td>\n",
       "      <td>16.0</td>\n",
       "      <td>False</td>\n",
       "      <td>303.0</td>\n",
       "      <td>70.0</td>\n",
       "      <td>151.0</td>\n",
       "      <td>565.0</td>\n",
       "      <td>2.0</td>\n",
       "      <td>Willy Santantines</td>\n",
       "      <td>True</td>\n",
       "    </tr>\n",
       "  </tbody>\n",
       "</table>\n",
       "</div>"
      ],
      "text/plain": [
       "  PassengerId HomePlanet CryoSleep  Cabin  Destination   Age    VIP  \\\n",
       "0     0001_01     Europa     False  B/0/P  TRAPPIST-1e  39.0  False   \n",
       "1     0002_01      Earth     False  F/0/S  TRAPPIST-1e  24.0  False   \n",
       "2     0003_01     Europa     False  A/0/S  TRAPPIST-1e  58.0   True   \n",
       "3     0003_02     Europa     False  A/0/S  TRAPPIST-1e  33.0  False   \n",
       "4     0004_01      Earth     False  F/1/S  TRAPPIST-1e  16.0  False   \n",
       "\n",
       "   RoomService  FoodCourt  ShoppingMall     Spa  VRDeck               Name  \\\n",
       "0          0.0        0.0           0.0     0.0     0.0    Maham Ofracculy   \n",
       "1        109.0        9.0          25.0   549.0    44.0       Juanna Vines   \n",
       "2         43.0     3576.0           0.0  6715.0    49.0      Altark Susent   \n",
       "3          0.0     1283.0         371.0  3329.0   193.0       Solam Susent   \n",
       "4        303.0       70.0         151.0   565.0     2.0  Willy Santantines   \n",
       "\n",
       "   Transported  \n",
       "0        False  \n",
       "1         True  \n",
       "2        False  \n",
       "3        False  \n",
       "4         True  "
      ]
     },
     "execution_count": 4,
     "metadata": {},
     "output_type": "execute_result"
    }
   ],
   "source": [
    "df_train.head()"
   ]
  },
  {
   "cell_type": "code",
   "execution_count": 5,
   "id": "5bcb0e2f",
   "metadata": {
    "execution": {
     "iopub.execute_input": "2022-05-13T14:22:02.216503Z",
     "iopub.status.busy": "2022-05-13T14:22:02.216019Z",
     "iopub.status.idle": "2022-05-13T14:22:02.250093Z",
     "shell.execute_reply": "2022-05-13T14:22:02.249472Z"
    },
    "papermill": {
     "duration": 0.055372,
     "end_time": "2022-05-13T14:22:02.253487",
     "exception": false,
     "start_time": "2022-05-13T14:22:02.198115",
     "status": "completed"
    },
    "tags": []
   },
   "outputs": [
    {
     "name": "stdout",
     "output_type": "stream",
     "text": [
      "<class 'pandas.core.frame.DataFrame'>\n",
      "RangeIndex: 8693 entries, 0 to 8692\n",
      "Data columns (total 14 columns):\n",
      " #   Column        Non-Null Count  Dtype  \n",
      "---  ------        --------------  -----  \n",
      " 0   PassengerId   8693 non-null   object \n",
      " 1   HomePlanet    8492 non-null   object \n",
      " 2   CryoSleep     8476 non-null   object \n",
      " 3   Cabin         8494 non-null   object \n",
      " 4   Destination   8511 non-null   object \n",
      " 5   Age           8514 non-null   float64\n",
      " 6   VIP           8490 non-null   object \n",
      " 7   RoomService   8512 non-null   float64\n",
      " 8   FoodCourt     8510 non-null   float64\n",
      " 9   ShoppingMall  8485 non-null   float64\n",
      " 10  Spa           8510 non-null   float64\n",
      " 11  VRDeck        8505 non-null   float64\n",
      " 12  Name          8493 non-null   object \n",
      " 13  Transported   8693 non-null   bool   \n",
      "dtypes: bool(1), float64(6), object(7)\n",
      "memory usage: 891.5+ KB\n"
     ]
    }
   ],
   "source": [
    "df_train.info()"
   ]
  },
  {
   "cell_type": "code",
   "execution_count": 6,
   "id": "893ac1ef",
   "metadata": {
    "execution": {
     "iopub.execute_input": "2022-05-13T14:22:02.284326Z",
     "iopub.status.busy": "2022-05-13T14:22:02.283611Z",
     "iopub.status.idle": "2022-05-13T14:22:02.301024Z",
     "shell.execute_reply": "2022-05-13T14:22:02.300410Z"
    },
    "papermill": {
     "duration": 0.032468,
     "end_time": "2022-05-13T14:22:02.302974",
     "exception": false,
     "start_time": "2022-05-13T14:22:02.270506",
     "status": "completed"
    },
    "tags": []
   },
   "outputs": [],
   "source": [
    "df_train = df_train.dropna()"
   ]
  },
  {
   "cell_type": "code",
   "execution_count": 7,
   "id": "555afdf8",
   "metadata": {
    "execution": {
     "iopub.execute_input": "2022-05-13T14:22:02.328400Z",
     "iopub.status.busy": "2022-05-13T14:22:02.327929Z",
     "iopub.status.idle": "2022-05-13T14:22:02.344046Z",
     "shell.execute_reply": "2022-05-13T14:22:02.343513Z"
    },
    "papermill": {
     "duration": 0.031178,
     "end_time": "2022-05-13T14:22:02.345931",
     "exception": false,
     "start_time": "2022-05-13T14:22:02.314753",
     "status": "completed"
    },
    "tags": []
   },
   "outputs": [
    {
     "name": "stdout",
     "output_type": "stream",
     "text": [
      "<class 'pandas.core.frame.DataFrame'>\n",
      "Int64Index: 6606 entries, 0 to 8692\n",
      "Data columns (total 14 columns):\n",
      " #   Column        Non-Null Count  Dtype  \n",
      "---  ------        --------------  -----  \n",
      " 0   PassengerId   6606 non-null   object \n",
      " 1   HomePlanet    6606 non-null   object \n",
      " 2   CryoSleep     6606 non-null   object \n",
      " 3   Cabin         6606 non-null   object \n",
      " 4   Destination   6606 non-null   object \n",
      " 5   Age           6606 non-null   float64\n",
      " 6   VIP           6606 non-null   object \n",
      " 7   RoomService   6606 non-null   float64\n",
      " 8   FoodCourt     6606 non-null   float64\n",
      " 9   ShoppingMall  6606 non-null   float64\n",
      " 10  Spa           6606 non-null   float64\n",
      " 11  VRDeck        6606 non-null   float64\n",
      " 12  Name          6606 non-null   object \n",
      " 13  Transported   6606 non-null   bool   \n",
      "dtypes: bool(1), float64(6), object(7)\n",
      "memory usage: 729.0+ KB\n"
     ]
    }
   ],
   "source": [
    "df_train.info()"
   ]
  },
  {
   "cell_type": "code",
   "execution_count": 8,
   "id": "0288bdfb",
   "metadata": {
    "execution": {
     "iopub.execute_input": "2022-05-13T14:22:02.372157Z",
     "iopub.status.busy": "2022-05-13T14:22:02.371630Z",
     "iopub.status.idle": "2022-05-13T14:22:02.821033Z",
     "shell.execute_reply": "2022-05-13T14:22:02.820347Z"
    },
    "papermill": {
     "duration": 0.465053,
     "end_time": "2022-05-13T14:22:02.823113",
     "exception": false,
     "start_time": "2022-05-13T14:22:02.358060",
     "status": "completed"
    },
    "tags": []
   },
   "outputs": [
    {
     "name": "stdout",
     "output_type": "stream",
     "text": [
      "['Europa' 'Earth' 'Mars']\n",
      "[1104, 1518, 705]\n",
      "[569, 2048, 662]\n",
      "\n",
      "Total no. of passengers from Europa: 1673 \n",
      "Of which only: 1104 passengers were transported successfully. \n",
      "This roughly translates to 65.98924088463838% of passengers from Europa were transported successfully.\n",
      "\n",
      "Total no. of passengers from Earth: 3566 \n",
      "Of which only: 1518 passengers were transported successfully. \n",
      "This roughly translates to 42.56870443073472% of passengers from Earth were transported successfully.\n",
      "\n",
      "Total no. of passengers from Mars: 1367 \n",
      "Of which only: 705 passengers were transported successfully. \n",
      "This roughly translates to 51.572787125091445% of passengers from Mars were transported successfully.\n",
      "\n",
      "\n",
      "\n"
     ]
    },
    {
     "data": {
      "image/png": "[encoded data removed]",
      "text/plain": [
       "<Figure size 432x288 with 1 Axes>"
      ]
     },
     "metadata": {
      "needs_background": "light"
     },
     "output_type": "display_data"
    }
   ],
   "source": [
    "# correlation between passengers and home planet\n",
    "'''\n",
    "The goal here is to visualize and understand if the home planet has an effect on whether the passengers are transported or not.\n",
    "'''\n",
    "\n",
    "# list of all home planets\n",
    "x_labels = df_train['HomePlanet'].unique()\n",
    "print(x_labels)\n",
    "\n",
    "# list of count of passengers that are transported from every home planet\n",
    "europa_true = len(df_train[(df_train['HomePlanet'] == 'Europa') & (df_train['Transported'] == True)])\n",
    "earth_true = len(df_train[(df_train['HomePlanet'] == 'Earth') & (df_train['Transported'] == True)])\n",
    "mars_true = len(df_train[(df_train['HomePlanet'] == 'Mars') & (df_train['Transported'] == True)])\n",
    "t_true = [europa_true, earth_true, mars_true]\n",
    "print(t_true)\n",
    "\n",
    "# list of count of passengers that are not transported from every home planet\n",
    "europa_false = len(df_train[(df_train['HomePlanet'] == 'Europa') & (df_train['Transported'] == False)])\n",
    "earth_false = len(df_train[(df_train['HomePlanet'] == 'Earth') & (df_train['Transported'] == False)])\n",
    "mars_false = len(df_train[(df_train['HomePlanet'] == 'Mars') & (df_train['Transported'] == False)])\n",
    "t_false = [europa_false, earth_false, mars_false]\n",
    "print(t_false)\n",
    "\n",
    "# stats for the home planets\n",
    "print(f'\\nTotal no. of passengers from Europa: {europa_true + europa_false} \\nOf which only: {europa_true} passengers were transported successfully. \\nThis roughly translates to {(europa_true / (europa_true + europa_false)) * 100}% of passengers from Europa were transported successfully.')\n",
    "\n",
    "print(f'\\nTotal no. of passengers from Earth: {earth_true + earth_false} \\nOf which only: {earth_true} passengers were transported successfully. \\nThis roughly translates to {(earth_true / (earth_true + earth_false)) * 100}% of passengers from Earth were transported successfully.')\n",
    "\n",
    "print(f'\\nTotal no. of passengers from Mars: {mars_true + mars_false} \\nOf which only: {mars_true} passengers were transported successfully. \\nThis roughly translates to {(mars_true / (mars_true + mars_false)) * 100}% of passengers from Mars were transported successfully.')\n",
    "\n",
    "print('\\n\\n')\n",
    "\n",
    "# plot\n",
    "x = np.arange(len(x_labels))\n",
    "width = 0.35\n",
    "\n",
    "fig, ax = plt.subplots()\n",
    "rects1 = ax.bar(x - width/2, t_true, width, label='Transported')\n",
    "rects2 = ax.bar(x + width/2, t_false, width, label='Not Transported')\n",
    "\n",
    "ax.set_ylabel('Number of Passengers')\n",
    "ax.set_title('Correlation between Passengers and Home Planet')\n",
    "ax.set_xticks(x, x_labels)\n",
    "ax.legend()\n",
    "\n",
    "ax.bar_label(rects1, padding=3)\n",
    "ax.bar_label(rects2, padding=3)\n",
    "\n",
    "fig.tight_layout()\n",
    "\n",
    "plt.show()"
   ]
  },
  {
   "cell_type": "code",
   "execution_count": 9,
   "id": "c3ab5a2d",
   "metadata": {
    "execution": {
     "iopub.execute_input": "2022-05-13T14:22:02.853665Z",
     "iopub.status.busy": "2022-05-13T14:22:02.853038Z",
     "iopub.status.idle": "2022-05-13T14:22:03.105782Z",
     "shell.execute_reply": "2022-05-13T14:22:03.105118Z"
    },
    "papermill": {
     "duration": 0.270426,
     "end_time": "2022-05-13T14:22:03.107752",
     "exception": false,
     "start_time": "2022-05-13T14:22:02.837326",
     "status": "completed"
    },
    "tags": []
   },
   "outputs": [
    {
     "name": "stdout",
     "output_type": "stream",
     "text": [
      "['In CryoSleep', 'Not in CrypSleep']\n",
      "\n",
      "Total Number of Passengers in CryoSleep: 2332 \n",
      "Of which only: 1905 passengers were transported successfully. \n",
      "This roughly translates to 81.68953687821612% of passengers in CryoSleep were transported successfully.\n",
      "\n",
      "Total Number of Passengers not in CryoSleep: 4274 \n",
      "Of which only: 1422 passengers were transported successfully. \n",
      "This roughly translates to 33.27094057089378% of passengers in CryoSleep were transported successfully.\n",
      "\n",
      "\n",
      "\n"
     ]
    },
    {
     "data": {
      "image/png": "[encoded data removed]",
      "text/plain": [
       "<Figure size 432x288 with 1 Axes>"
      ]
     },
     "metadata": {
      "needs_background": "light"
     },
     "output_type": "display_data"
    }
   ],
   "source": [
    "# correlation between passengers and cryosleep\n",
    "\n",
    "# True-False for CryoSleep\n",
    "x_labels = ['In CryoSleep', 'Not in CrypSleep']\n",
    "print(x_labels)\n",
    "\n",
    "# list of count of passengers that are transported who were and weren't in cryosleep\n",
    "c_true_true = len(df_train[(df_train['CryoSleep'] == True) & (df_train['Transported'] == True)])\n",
    "c_false_true = len(df_train[(df_train['CryoSleep'] == False) & (df_train['Transported'] == True)])\n",
    "t_true = [c_true_true, c_false_true]\n",
    "\n",
    "# list of count of passengers that are not transported who were and weren't in cryosleep\n",
    "c_true_false = len(df_train[(df_train['CryoSleep'] == True) & (df_train['Transported'] == False)])\n",
    "c_false_false = len(df_train[(df_train['CryoSleep'] == False) & (df_train['Transported'] == False)])\n",
    "t_false = [c_true_false, c_false_false]\n",
    "\n",
    "# stats for cryosleep\n",
    "print(f'\\nTotal Number of Passengers in CryoSleep: {c_true_true + c_true_false} \\nOf which only: {c_true_true} passengers were transported successfully. \\nThis roughly translates to {(c_true_true / (c_true_true + c_true_false)) * 100}% of passengers in CryoSleep were transported successfully.')\n",
    "\n",
    "print(f'\\nTotal Number of Passengers not in CryoSleep: {c_false_true + c_false_false} \\nOf which only: {c_false_true} passengers were transported successfully. \\nThis roughly translates to {(c_false_true / (c_false_true + c_false_false)) * 100}% of passengers in CryoSleep were transported successfully.')\n",
    "\n",
    "print('\\n\\n')\n",
    "\n",
    "#plot\n",
    "x = np.arange(len(x_labels))\n",
    "width = 0.35\n",
    "\n",
    "fig, ax = plt.subplots()\n",
    "rects1 = ax.bar(x - width/2, t_true, width, label='Transported')\n",
    "rects2 = ax.bar(x + width/2, t_false, width, label='Not Transported')\n",
    "\n",
    "ax.set_xlabel('CryoSleep')\n",
    "ax.set_ylabel('Number of Passengers')\n",
    "ax.set_title('Correlation between Passengers and CryoSleep')\n",
    "ax.set_xticks(x, x_labels)\n",
    "ax.legend()\n",
    "\n",
    "ax.bar_label(rects1, padding=3)\n",
    "ax.bar_label(rects2, padding=3)\n",
    "\n",
    "fig.tight_layout()\n",
    "\n",
    "plt.show()"
   ]
  }
 ],
 "metadata": {
  "kernelspec": {
   "display_name": "Python 3",
   "language": "python",
   "name": "python3"
  },
  "language_info": {
   "codemirror_mode": {
    "name": "ipython",
    "version": 3
   },
   "file_extension": ".py",
   "mimetype": "text/x-python",
   "name": "python",
   "nbconvert_exporter": "python",
   "pygments_lexer": "ipython3",
   "version": "3.7.12"
  },
  "papermill": {
   "default_parameters": {},
   "duration": 11.5481,
   "end_time": "2022-05-13T14:22:03.745739",
   "environment_variables": {},
   "exception": null,
   "input_path": "__notebook__.ipynb",
   "output_path": "__notebook__.ipynb",
   "parameters": {},
   "start_time": "2022-05-13T14:21:52.197639",
   "version": "2.3.4"
  }
 },
 "nbformat": 4,
 "nbformat_minor": 5
}
